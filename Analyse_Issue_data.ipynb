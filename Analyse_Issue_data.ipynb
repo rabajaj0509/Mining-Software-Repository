{
  "nbformat": 4,
  "nbformat_minor": 0,
  "metadata": {
    "colab": {
      "name": "Analyse Issue data.ipynb",
      "provenance": []
    },
    "kernelspec": {
      "name": "python3",
      "display_name": "Python 3"
    },
    "language_info": {
      "name": "python"
    }
  },
  "cells": [
    {
      "cell_type": "code",
      "metadata": {
        "id": "jzPuTscx7WjQ"
      },
      "source": [
        "from google.colab import drive\n",
        "import csv\n",
        "import os\n",
        "import numpy as np\n",
        "import pandas as pd\n",
        "import collections"
      ],
      "execution_count": 140,
      "outputs": []
    },
    {
      "cell_type": "code",
      "metadata": {
        "colab": {
          "base_uri": "https://localhost:8080/"
        },
        "id": "RACnM2r17RsI",
        "outputId": "20ab6b92-4352-404b-c722-d6cfb3f6a7bc"
      },
      "source": [
        "#Mount Google drive, provide auth code to write/read from G drive. You don't need to mount this if running this notebook on local.\n",
        "drive.mount(\"/drive\")"
      ],
      "execution_count": 134,
      "outputs": [
        {
          "output_type": "stream",
          "name": "stdout",
          "text": [
            "Drive already mounted at /drive; to attempt to forcibly remount, call drive.mount(\"/drive\", force_remount=True).\n"
          ]
        }
      ]
    },
    {
      "cell_type": "code",
      "metadata": {
        "id": "_qW13BX96-uW"
      },
      "source": [
        "repo_list = [\n",
        "             \"OpenGenus/cosmos\",\"playframework/playframework\",\"rundeck/rundeck\",\"ivanperez-keera/Yampa\",\"andmorefine/since-co\",\"sbt/sbt-aspectj\",\n",
        "             \"ComputerScienceHouse/Constitution\",\"sbt/sbt-findbugs\",\"oceanprotocol/contracts\",\"contentful/contentful-management.rb\",\"okta/samples-js-react-native\"\n",
        "            ]\n",
        "\n",
        "header = {'Repo','Issue-no','Issue-title','Issue-body','Issue-reaction-total-count','Issue-reaction-plus-one','Issue-reaction-minus-one','Issue-comments'}\n",
        "\n",
        "keywords = ['travis','travis-ci','Travis','Travis-ci','.travis.yml']\n",
        "\n",
        "title_count ={}\n",
        "body_count = {}\n",
        "title_idx={}\n",
        "body_idx={}\n",
        "match_idx={}\n",
        "match_count = {}\n",
        "issue_reaction_count ={}\n",
        "issue_comment_count ={}\n",
        "total_no_of_issues ={}\n",
        "\n",
        "def Union(lst1, lst2):\n",
        "    final_list = list(set(lst1) | set(lst2))\n",
        "    return final_list"
      ],
      "execution_count": 141,
      "outputs": []
    },
    {
      "cell_type": "code",
      "metadata": {
        "id": "htlgZcKZV8_1"
      },
      "source": [
        "for repo in repo_list:\n",
        "    filename=\"/drive/My Drive/Colab Notebooks/data/{}.{}\".format(repo.replace(\"/\",\"--\")+\"_raw\", \"csv\")  #change directory as per need\n",
        "    df = pd.read_csv(filename) \n",
        "    #df.head()\n",
        "    title_list = list(df['Issue-title'])\n",
        "    total_no_of_issues[repo] = title_list.__len__()\n",
        "    idx = 0\n",
        "    length =title_list.__len__()\n",
        "    title_idx_repo =[]\n",
        "    while(idx<length):\n",
        "        for word in keywords: \n",
        "            if word in str(title_list[idx]):\n",
        "                title_idx_repo.append(idx)\n",
        "                #print(word,idx)\n",
        "        idx = idx + 1;\n",
        "    title_count[repo] = set(title_idx_repo).__len__()\n",
        "    title_idx[repo] = sorted(set(title_idx_repo))\n",
        "    #print(title_idx_repo)\n",
        "\n",
        "    body_list = list(df['Issue-body'])\n",
        "    body_idx_repo =[]\n",
        "    idx = 0\n",
        "    length =body_list.__len__()\n",
        "    while(idx<length):\n",
        "        for word in keywords: \n",
        "            if word in str(body_list[idx]):\n",
        "                count = count + 1\n",
        "                body_idx_repo.append(idx)\n",
        "                #print(word,idx)\n",
        "        idx = idx + 1;\n",
        "    body_count[repo] = set(body_idx_repo).__len__()\n",
        "    body_idx[repo] = sorted(set(body_idx_repo))\n",
        "\n",
        "    match_idx[repo] = sorted(Union(title_idx[repo], body_idx[repo]))\n",
        "    match_count[repo] = Union(title_idx[repo], body_idx[repo]).__len__()\n",
        "\n",
        "    rxn_list = list(df['Issue-reaction-total-count'])\n",
        "    rxn_count_repo=0\n",
        "    for idx in match_idx[repo]:\n",
        "        rxn_count_repo = rxn_count_repo + rxn_list[idx]\n",
        "\n",
        "    issue_reaction_count[repo] = rxn_count_repo\n",
        "\n",
        "    comment_list = list(df['Issue-comments'])\n",
        "    comment_count_repo=0\n",
        "    for idx in match_idx[repo]:\n",
        "        comment_count_repo = comment_count_repo + comment_list[idx]\n",
        "        #print(idx,comment_count_repo)\n",
        "\n",
        "    issue_comment_count[repo] = comment_count_repo\n",
        "    "
      ],
      "execution_count": 142,
      "outputs": []
    },
    {
      "cell_type": "code",
      "metadata": {
        "colab": {
          "base_uri": "https://localhost:8080/"
        },
        "id": "UPLNBhzy7xZE",
        "outputId": "05913496-f329-43da-e62b-6d5dc0cea955"
      },
      "source": [
        "print(title_idx)\n",
        "print(title_count)\n",
        "\n",
        "print(body_idx)\n",
        "print(body_count)\n",
        "\n",
        "print(match_idx)\n",
        "print(match_count)\n",
        "\n",
        "print(issue_reaction_count)\n",
        "print(issue_comment_count)\n",
        "\n",
        "print(total_no_of_issues)"
      ],
      "execution_count": 143,
      "outputs": [
        {
          "output_type": "stream",
          "name": "stdout",
          "text": [
            "{'OpenGenus/cosmos': [73, 2201, 2295, 2297, 2302, 2443, 2664, 2769, 2791, 2895, 2947, 2949, 3003, 3037, 3060, 3063, 3069, 3072, 3073, 3080, 3104, 3261, 3834, 3887], 'playframework/playframework': [15, 16, 138, 396, 532, 614, 658, 659, 821, 860, 894, 895, 898, 935, 1031, 1036, 1069, 1073, 1074, 1150, 1229, 1278, 1299, 1414, 1519, 1520, 1523, 1817, 1859, 1863, 1865, 1925, 2161, 2198, 2294, 2295, 2311, 2313, 2366, 2369, 2396, 3115, 3124, 3311, 3512, 3921, 4069, 4077, 4270, 4271, 4279, 4280, 4365, 4502, 4505, 5977, 5980, 5992, 5999, 6009], 'rundeck/rundeck': [42, 272, 736, 1398, 1405, 1406, 1415, 1416, 1988, 3041, 3279, 3302, 3303, 3337, 3589, 3922, 4026, 4204, 4685, 4716, 4789, 5140, 5149, 5381, 5421, 6192, 6472], 'ivanperez-keera/Yampa': [0, 9, 12, 38, 49, 50, 51, 52, 53, 77, 88, 121, 149, 150], 'andmorefine/since-co': [3, 21], 'sbt/sbt-aspectj': [0], 'ComputerScienceHouse/Constitution': [0, 29], 'sbt/sbt-findbugs': [0], 'oceanprotocol/contracts': [30, 326, 332, 333, 362], 'contentful/contentful-management.rb': [0], 'okta/samples-js-react-native': [0, 4, 6, 7, 43]}\n",
            "{'OpenGenus/cosmos': 24, 'playframework/playframework': 60, 'rundeck/rundeck': 27, 'ivanperez-keera/Yampa': 14, 'andmorefine/since-co': 2, 'sbt/sbt-aspectj': 1, 'ComputerScienceHouse/Constitution': 2, 'sbt/sbt-findbugs': 1, 'oceanprotocol/contracts': 5, 'contentful/contentful-management.rb': 1, 'okta/samples-js-react-native': 5}\n",
            "{'OpenGenus/cosmos': [73, 2201, 2237, 2246, 2257, 2297, 2302, 2310, 2312, 2443, 2664, 2677, 2769, 2785, 2791, 2947, 2949, 3022, 3037, 3054, 3060, 3063, 3073, 3080, 3104, 3261, 3834, 3887], 'playframework/playframework': [15, 16, 33, 36, 38, 56, 69, 77, 108, 144, 149, 162, 180, 188, 200, 203, 257, 276, 279, 322, 323, 344, 355, 361, 381, 408, 445, 472, 493, 529, 542, 560, 576, 597, 614, 653, 659, 661, 665, 667, 675, 693, 698, 699, 749, 755, 759, 784, 790, 796, 797, 860, 863, 882, 887, 891, 893, 945, 946, 949, 950, 952, 953, 963, 1024, 1026, 1069, 1073, 1113, 1157, 1273, 1275, 1278, 1284, 1339, 1378, 1399, 1506, 1511, 1631, 1678, 1679, 1757, 1809, 1865, 1943, 2046, 2055, 2063, 2113, 2161, 2198, 2243, 2251, 2289, 2294, 2295, 2301, 2303, 2369, 2393, 2396, 2810, 3041, 3124, 3356, 3649, 3841, 3847, 3881, 3921, 4102, 4279, 4280, 4365, 4468, 4485, 4493, 4501, 4502, 4505, 4574, 4632, 5420, 5596, 5849, 5932, 5950, 5992, 6486, 9021, 9224], 'rundeck/rundeck': [160, 441, 481, 482, 885, 1049, 1335, 1415, 1416, 1458, 1898, 3199, 3211, 3279, 3302, 3303, 3331, 3337, 3341, 3429, 3589, 3803, 4791, 5149, 6192, 6472], 'ivanperez-keera/Yampa': [0, 1, 12, 13, 14, 38, 40, 49, 52, 53, 67, 72, 77, 88, 89, 121, 149, 150], 'andmorefine/since-co': [3, 21, 237, 674], 'sbt/sbt-aspectj': [0], 'ComputerScienceHouse/Constitution': [0], 'sbt/sbt-findbugs': [0], 'oceanprotocol/contracts': [30, 90, 125, 256, 262, 290, 324, 362], 'contentful/contentful-management.rb': [0], 'okta/samples-js-react-native': [6, 51]}\n",
            "{'OpenGenus/cosmos': 28, 'playframework/playframework': 132, 'rundeck/rundeck': 26, 'ivanperez-keera/Yampa': 18, 'andmorefine/since-co': 4, 'sbt/sbt-aspectj': 1, 'ComputerScienceHouse/Constitution': 1, 'sbt/sbt-findbugs': 1, 'oceanprotocol/contracts': 8, 'contentful/contentful-management.rb': 1, 'okta/samples-js-react-native': 2}\n",
            "{'OpenGenus/cosmos': [73, 2201, 2237, 2246, 2257, 2295, 2297, 2302, 2310, 2312, 2443, 2664, 2677, 2769, 2785, 2791, 2895, 2947, 2949, 3003, 3022, 3037, 3054, 3060, 3063, 3069, 3072, 3073, 3080, 3104, 3261, 3834, 3887], 'playframework/playframework': [15, 16, 33, 36, 38, 56, 69, 77, 108, 138, 144, 149, 162, 180, 188, 200, 203, 257, 276, 279, 322, 323, 344, 355, 361, 381, 396, 408, 445, 472, 493, 529, 532, 542, 560, 576, 597, 614, 653, 658, 659, 661, 665, 667, 675, 693, 698, 699, 749, 755, 759, 784, 790, 796, 797, 821, 860, 863, 882, 887, 891, 893, 894, 895, 898, 935, 945, 946, 949, 950, 952, 953, 963, 1024, 1026, 1031, 1036, 1069, 1073, 1074, 1113, 1150, 1157, 1229, 1273, 1275, 1278, 1284, 1299, 1339, 1378, 1399, 1414, 1506, 1511, 1519, 1520, 1523, 1631, 1678, 1679, 1757, 1809, 1817, 1859, 1863, 1865, 1925, 1943, 2046, 2055, 2063, 2113, 2161, 2198, 2243, 2251, 2289, 2294, 2295, 2301, 2303, 2311, 2313, 2366, 2369, 2393, 2396, 2810, 3041, 3115, 3124, 3311, 3356, 3512, 3649, 3841, 3847, 3881, 3921, 4069, 4077, 4102, 4270, 4271, 4279, 4280, 4365, 4468, 4485, 4493, 4501, 4502, 4505, 4574, 4632, 5420, 5596, 5849, 5932, 5950, 5977, 5980, 5992, 5999, 6009, 6486, 9021, 9224], 'rundeck/rundeck': [42, 160, 272, 441, 481, 482, 736, 885, 1049, 1335, 1398, 1405, 1406, 1415, 1416, 1458, 1898, 1988, 3041, 3199, 3211, 3279, 3302, 3303, 3331, 3337, 3341, 3429, 3589, 3803, 3922, 4026, 4204, 4685, 4716, 4789, 4791, 5140, 5149, 5381, 5421, 6192, 6472], 'ivanperez-keera/Yampa': [0, 1, 9, 12, 13, 14, 38, 40, 49, 50, 51, 52, 53, 67, 72, 77, 88, 89, 121, 149, 150], 'andmorefine/since-co': [3, 21, 237, 674], 'sbt/sbt-aspectj': [0], 'ComputerScienceHouse/Constitution': [0, 29], 'sbt/sbt-findbugs': [0], 'oceanprotocol/contracts': [30, 90, 125, 256, 262, 290, 324, 326, 332, 333, 362], 'contentful/contentful-management.rb': [0], 'okta/samples-js-react-native': [0, 4, 6, 7, 43, 51]}\n",
            "{'OpenGenus/cosmos': 33, 'playframework/playframework': 169, 'rundeck/rundeck': 43, 'ivanperez-keera/Yampa': 21, 'andmorefine/since-co': 4, 'sbt/sbt-aspectj': 1, 'ComputerScienceHouse/Constitution': 2, 'sbt/sbt-findbugs': 1, 'oceanprotocol/contracts': 11, 'contentful/contentful-management.rb': 1, 'okta/samples-js-react-native': 6}\n",
            "{'OpenGenus/cosmos': 39, 'playframework/playframework': 17.0, 'rundeck/rundeck': 5.0, 'ivanperez-keera/Yampa': 0, 'andmorefine/since-co': 0, 'sbt/sbt-aspectj': 0, 'ComputerScienceHouse/Constitution': 0, 'sbt/sbt-findbugs': 0, 'oceanprotocol/contracts': 0, 'contentful/contentful-management.rb': 0, 'okta/samples-js-react-native': 0}\n",
            "{'OpenGenus/cosmos': 101, 'playframework/playframework': 380.0, 'rundeck/rundeck': 26.0, 'ivanperez-keera/Yampa': 20, 'andmorefine/since-co': 2, 'sbt/sbt-aspectj': 0, 'ComputerScienceHouse/Constitution': 0, 'sbt/sbt-findbugs': 0, 'oceanprotocol/contracts': 13, 'contentful/contentful-management.rb': 1, 'okta/samples-js-react-native': 1}\n",
            "{'OpenGenus/cosmos': 6257, 'playframework/playframework': 10979, 'rundeck/rundeck': 6756, 'ivanperez-keera/Yampa': 194, 'andmorefine/since-co': 1367, 'sbt/sbt-aspectj': 49, 'ComputerScienceHouse/Constitution': 188, 'sbt/sbt-findbugs': 27, 'oceanprotocol/contracts': 366, 'contentful/contentful-management.rb': 232, 'okta/samples-js-react-native': 102}\n"
          ]
        }
      ]
    },
    {
      "cell_type": "code",
      "metadata": {
        "id": "5W39xTe7UTKq",
        "colab": {
          "base_uri": "https://localhost:8080/"
        },
        "outputId": "e8455aa4-1cd8-4783-f41f-aa06081b901b"
      },
      "source": [
        "filename=\"/drive/My Drive/Colab Notebooks/data/{}.{}\".format(\"issues_result\", \"csv\")\n",
        "fileop = open(filename, 'a') #append existing file or create file with name <filename>\n",
        "csv_writer = csv.writer(fileop)\n",
        "csvheader = ['Repo','Total number of issues examined','No of matches in title', 'No of matches in body','Total number of matches','Number of reactions in matches','Number of comments in matches']\n",
        "if os.stat(filename).st_size == 0:\n",
        "    print(\"Writing in\", filename)\n",
        "    csv_writer.writerow(csvheader)\n",
        "\n",
        "for repo in repo_list:\n",
        "    row = [repo,total_no_of_issues[repo],title_count[repo],body_count[repo],match_count[repo],issue_reaction_count[repo],issue_comment_count[repo]]\n",
        "    csv_writer.writerow(row)\n",
        "    print(row)\n",
        "        \n",
        "fileop.close()\n",
        "print(\"Saved file: \",filename)"
      ],
      "execution_count": 144,
      "outputs": [
        {
          "output_type": "stream",
          "name": "stdout",
          "text": [
            "Writing in /drive/My Drive/Colab Notebooks/data/issues_result.csv\n",
            "['OpenGenus/cosmos', 6257, 24, 28, 33, 39, 101]\n",
            "['playframework/playframework', 10979, 60, 132, 169, 17.0, 380.0]\n",
            "['rundeck/rundeck', 6756, 27, 26, 43, 5.0, 26.0]\n",
            "['ivanperez-keera/Yampa', 194, 14, 18, 21, 0, 20]\n",
            "['andmorefine/since-co', 1367, 2, 4, 4, 0, 2]\n",
            "['sbt/sbt-aspectj', 49, 1, 1, 1, 0, 0]\n",
            "['ComputerScienceHouse/Constitution', 188, 2, 1, 2, 0, 0]\n",
            "['sbt/sbt-findbugs', 27, 1, 1, 1, 0, 0]\n",
            "['oceanprotocol/contracts', 366, 5, 8, 11, 0, 13]\n",
            "['contentful/contentful-management.rb', 232, 1, 1, 1, 0, 1]\n",
            "['okta/samples-js-react-native', 102, 5, 2, 6, 0, 1]\n",
            "Saved file:  /drive/My Drive/Colab Notebooks/data/issues_result.csv\n"
          ]
        }
      ]
    },
    {
      "cell_type": "code",
      "metadata": {
        "id": "cwUd2BNqmzBp"
      },
      "source": [
        ""
      ],
      "execution_count": null,
      "outputs": []
    }
  ]
}